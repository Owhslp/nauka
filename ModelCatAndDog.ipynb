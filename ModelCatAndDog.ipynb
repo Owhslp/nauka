{
 "cells": [
  {
   "cell_type": "code",
   "execution_count": 97,
   "id": "7bd95c2e",
   "metadata": {},
   "outputs": [],
   "source": [
    "import tensorflow as tf\n",
    "from tensorflow.keras.applications import VGG16\n",
    "from tensorflow.keras.preprocessing.image import ImageDataGenerator"
   ]
  },
  {
   "cell_type": "code",
   "execution_count": 98,
   "id": "040aac1e",
   "metadata": {},
   "outputs": [],
   "source": [
    "model = VGG16(weights='imagenet', include_top=True)"
   ]
  },
  {
   "cell_type": "code",
   "execution_count": 99,
   "id": "be8c1085",
   "metadata": {},
   "outputs": [
    {
     "name": "stdout",
     "output_type": "stream",
     "text": [
      "Found 322 images belonging to 2 classes.\n"
     ]
    }
   ],
   "source": [
    "datagen = ImageDataGenerator(rescale=1.0/255.0)\n",
    "train_generator = datagen.flow_from_directory(r'C:\\Users\\Bartosz\\Desktop\\archive\\PetImagesfix\\\\', target_size=(224, 224), batch_size=32, class_mode='categorical')"
   ]
  },
  {
   "cell_type": "code",
   "execution_count": 100,
   "id": "db998f65",
   "metadata": {},
   "outputs": [],
   "source": [
    "from keras.layers import Input, Dense\n",
    "from keras.models import Model\n",
    "input_shape = (224,224, 3)\n",
    "num_classes = 2 \n",
    "inputs = Input(shape=(input_shape))\n",
    "x = Dense(64, activation='relu')(inputs)\n",
    "outputs = Dense(num_classes, activation='softmax')(x)\n",
    "model = Model(inputs=inputs, outputs=outputs)"
   ]
  },
  {
   "cell_type": "code",
   "execution_count": 101,
   "id": "7af664a0",
   "metadata": {},
   "outputs": [],
   "source": [
    "from keras.models import Sequential\n",
    "from keras.layers import Conv2D, MaxPooling2D, Flatten, Dense\n",
    "\n",
    "model = Sequential()\n",
    "model.add(Conv2D(32, (3, 3), activation='relu', input_shape=(224, 224, 3)))\n",
    "model.add(MaxPooling2D((2,2)))\n",
    "model.add(Conv2D(64, (3, 3), activation='relu'))\n",
    "model.add(MaxPooling2D((2,2)))\n",
    "model.add(Conv2D(128, (3,3), activation='relu'))\n",
    "model.add(MaxPooling2D((2,2)))\n",
    "model.add(Flatten())\n",
    "model.add(Dense(128, activation='relu'))\n",
    "model.add(Dense(num_classes, activation='softmax'))"
   ]
  },
  {
   "cell_type": "code",
   "execution_count": 102,
   "id": "70c2dfee",
   "metadata": {},
   "outputs": [],
   "source": [
    "model.compile(optimizer='Adam', loss='categorical_crossentropy', metrics=['accuracy'])"
   ]
  },
  {
   "cell_type": "code",
   "execution_count": 103,
   "id": "6b85ecee",
   "metadata": {},
   "outputs": [
    {
     "name": "stdout",
     "output_type": "stream",
     "text": [
      "Epoch 1/5\n",
      "11/11 [==============================] - 9s 710ms/step - loss: 1.1304 - accuracy: 0.5342\n",
      "Epoch 2/5\n",
      "11/11 [==============================] - 8s 733ms/step - loss: 0.6712 - accuracy: 0.5807\n",
      "Epoch 3/5\n",
      "11/11 [==============================] - 8s 713ms/step - loss: 0.6382 - accuracy: 0.6118\n",
      "Epoch 4/5\n",
      "11/11 [==============================] - 8s 728ms/step - loss: 0.5713 - accuracy: 0.6894\n",
      "Epoch 5/5\n",
      "11/11 [==============================] - 8s 716ms/step - loss: 0.5741 - accuracy: 0.6584\n"
     ]
    },
    {
     "data": {
      "text/plain": [
       "<keras.src.callbacks.History at 0x27166496a90>"
      ]
     },
     "execution_count": 103,
     "metadata": {},
     "output_type": "execute_result"
    }
   ],
   "source": [
    "model.fit(train_generator, steps_per_epoch=len(train_generator),epochs=5)"
   ]
  },
  {
   "cell_type": "code",
   "execution_count": null,
   "id": "ca48985b",
   "metadata": {},
   "outputs": [],
   "source": [
    "#import os\n",
    "#from PIL import Image\n",
    "#input_folder1 = r'C:\\Users\\Bartosz\\Desktop\\archive\\PetImages\\Dog'\n",
    "#output_folder1 = r'C:\\Users\\Bartosz\\Desktop\\archive\\nowypies\\\\'\n",
    "#for filename in os.listdir(input_folder1):\n",
    "#    if filename.endswith(\".png\"):\n",
    "#        image = Image.open(os.path.join(input_folder1), filename)\n",
    "#        \n",
    "#        rgb_image = image.convert(\"RGB\")\n",
    "#        \n",
    "#        output_path = os.path.join(output_folder1, filename.replace(\".png\",\".jpg\"))\n",
    "#        rgb_image.save(output_path)\n",
    "#print(\"przetwarzanie zakonczone\")"
   ]
  },
  {
   "cell_type": "code",
   "execution_count": null,
   "id": "9ae60570",
   "metadata": {},
   "outputs": [],
   "source": [
    "#import os\n",
    "#from PIL import Image\n",
    "#input_folder1 = r'C:\\Users\\Bartosz\\Desktop\\archive\\PetImages\\Cat'\n",
    "#output_folder1 = r'C:\\Users\\Bartosz\\Desktop\\archive\\nowypies\\\\'\n",
    "#\n",
    "#desired_size = (224, 224)\n",
    "#\n",
    "#if not os.path.exists(output_folder1):\n",
    "#    os.makedirs(output_folder1)\n",
    "#    \n",
    "#for filename in os.listdir(input_folder):\n",
    "#    if filename.endswith(\".jpg\"):\n",
    "#        image = Image.open(os.path.join(input_folder1,filename))\n",
    "#        resized_image = image.resize(desired_size)\n",
    "#        resized_image.save(os.path.join(output_folder1, filename))\n",
    "#print(\"przetwarzanie zakonczone\")"
   ]
  },
  {
   "cell_type": "code",
   "execution_count": null,
   "id": "5bd279fd",
   "metadata": {},
   "outputs": [],
   "source": [
    "#import os\n",
    "#from PIL import Image\n",
    "#input_folder1 = r'C:\\Users\\Bartosz\\Desktop\\archive\\PetImages\\Dog'\n",
    "#output_folder1 = r'C:\\Users\\Bartosz\\Desktop\\archive\\nowypies\\\\'\n",
    "#\n",
    "#desired_size = (224, 224)\n",
    "#\n",
    "#if not os.path.exists(output_folder1):\n",
    "#    os.makedirs(output_folder1)\n",
    "#    \n",
    "#for filename in os.listdir(input_folder1):\n",
    "#    if filename.endswith(\".jpg\"):\n",
    "#        image = Image.open(os.path.join(input_folder1,filename))\n",
    "#        resized_image = image.resize(desired_size)\n",
    "#        resized_image.save(os.path.join(output_folder1, filename))\n",
    "#print(\"przetwarzanie zakonczone\")"
   ]
  },
  {
   "cell_type": "code",
   "execution_count": 104,
   "id": "251ed74b",
   "metadata": {},
   "outputs": [
    {
     "name": "stdout",
     "output_type": "stream",
     "text": [
      "Model: \"sequential_5\"\n",
      "_________________________________________________________________\n",
      " Layer (type)                Output Shape              Param #   \n",
      "=================================================================\n",
      " conv2d_15 (Conv2D)          (None, 222, 222, 32)      896       \n",
      "                                                                 \n",
      " max_pooling2d_15 (MaxPooli  (None, 111, 111, 32)      0         \n",
      " ng2D)                                                           \n",
      "                                                                 \n",
      " conv2d_16 (Conv2D)          (None, 109, 109, 64)      18496     \n",
      "                                                                 \n",
      " max_pooling2d_16 (MaxPooli  (None, 54, 54, 64)        0         \n",
      " ng2D)                                                           \n",
      "                                                                 \n",
      " conv2d_17 (Conv2D)          (None, 52, 52, 128)       73856     \n",
      "                                                                 \n",
      " max_pooling2d_17 (MaxPooli  (None, 26, 26, 128)       0         \n",
      " ng2D)                                                           \n",
      "                                                                 \n",
      " flatten_5 (Flatten)         (None, 86528)             0         \n",
      "                                                                 \n",
      " dense_22 (Dense)            (None, 128)               11075712  \n",
      "                                                                 \n",
      " dense_23 (Dense)            (None, 2)                 258       \n",
      "                                                                 \n",
      "=================================================================\n",
      "Total params: 11169218 (42.61 MB)\n",
      "Trainable params: 11169218 (42.61 MB)\n",
      "Non-trainable params: 0 (0.00 Byte)\n",
      "_________________________________________________________________\n"
     ]
    }
   ],
   "source": [
    "model.summary()"
   ]
  },
  {
   "cell_type": "code",
   "execution_count": 105,
   "id": "e51cd3b3",
   "metadata": {},
   "outputs": [
    {
     "name": "stdout",
     "output_type": "stream",
     "text": [
      "1/1 [==============================] - 0s 69ms/step\n",
      "model przewiduje ze to jest: dog\n"
     ]
    }
   ],
   "source": [
    "from PIL import Image\n",
    "import numpy as np\n",
    "\n",
    "img = Image.open(r'C://Users//Bartosz//doggo//dg2.jpg')\n",
    "img = img.resize((224,224))\n",
    "\n",
    "img_array = np.array(img)\n",
    "img_array = img_array.astype('float32') / 255.0\n",
    "img_array = np.expand_dims(img_array, axis=0)\n",
    "\n",
    "result = model.predict(img_array)\n",
    "\n",
    "predicted_class = np.argmax(result)\n",
    "\n",
    "class_labels = {0: 'cat', 1: 'dog'}\n",
    "predicted_label = class_labels[predicted_class]\n",
    "\n",
    "print(f\"model przewiduje ze to jest: {predicted_label}\")"
   ]
  },
  {
   "cell_type": "code",
   "execution_count": 106,
   "id": "76f8f9c3",
   "metadata": {},
   "outputs": [],
   "source": [
    "import os\n",
    "path_to_doggo = r'C:\\Users\\Bartosz\\doggo\\dg2.jpg'\n",
    "if os.path.exists(path_to_doggo):\n",
    "    img = Image.open(path_to_doggo)\n",
    "else:\n",
    "    print(\"nie znaleziono pliku\")"
   ]
  },
  {
   "cell_type": "code",
   "execution_count": 107,
   "id": "7d3fabcb",
   "metadata": {},
   "outputs": [
    {
     "name": "stdout",
     "output_type": "stream",
     "text": [
      "1/1 [==============================] - 0s 25ms/step\n",
      "model przewiduje ze to jest: dog\n"
     ]
    }
   ],
   "source": [
    "from PIL import Image\n",
    "import numpy as np\n",
    "\n",
    "img = Image.open(r'C://Users//Bartosz//catto//ct4.jpg')\n",
    "img = img.resize((224,224))\n",
    "\n",
    "img_array = np.array(img)\n",
    "img_array = img_array.astype('float32') / 255.0\n",
    "img_array = np.expand_dims(img_array, axis=0)\n",
    "\n",
    "result = model.predict(img_array)\n",
    "\n",
    "predicted_class = np.argmax(result)\n",
    "\n",
    "class_labels = {0: 'cat', 1: 'dog'}\n",
    "predicted_label = class_labels[predicted_class]\n",
    "\n",
    "print(f\"model przewiduje ze to jest: {predicted_label}\")"
   ]
  },
  {
   "cell_type": "code",
   "execution_count": 108,
   "id": "22f0d534",
   "metadata": {},
   "outputs": [
    {
     "name": "stdout",
     "output_type": "stream",
     "text": [
      "11/11 [==============================] - 2s 147ms/step\n"
     ]
    },
    {
     "data": {
      "image/png": "[encoded data removed]",
      "text/plain": [
       "<Figure size 800x600 with 2 Axes>"
      ]
     },
     "metadata": {},
     "output_type": "display_data"
    }
   ],
   "source": [
    "### macierz pomylek \n",
    "from sklearn.metrics import confusion_matrix \n",
    "import matplotlib.pyplot as plt\n",
    "import seaborn as sns\n",
    "y_true = []\n",
    "\n",
    "for i in range(len(train_generator)):\n",
    "    x_train, labels_train  = train_generator[i]\n",
    "    y_true.extend(np.argmax(labels_train, axis=1))\n",
    "    \n",
    "y_pred = model.predict(train_generator)\n",
    "y_pred = np.argmax(y_pred, axis=1)\n",
    "\n",
    "cm = confusion_matrix(y_true, y_pred)\n",
    "\n",
    "plt.figure(figsize=(8,6))\n",
    "sns.heatmap(cm, annot=True, fmt='d', cmap='Blues')\n",
    "plt.xlabel('predicted')\n",
    "plt.ylabel('True')\n",
    "plt.show()"
   ]
  },
  {
   "cell_type": "code",
   "execution_count": 109,
   "id": "610b8fa7",
   "metadata": {},
   "outputs": [
    {
     "name": "stdout",
     "output_type": "stream",
     "text": [
      "Found 322 images belonging to 2 classes.\n",
      "11/11 [==============================] - 2s 136ms/step\n"
     ]
    },
    {
     "data": {
      "image/png": "[encoded data removed]",
      "text/plain": [
       "<Figure size 800x600 with 2 Axes>"
      ]
     },
     "metadata": {},
     "output_type": "display_data"
    }
   ],
   "source": [
    "from keras.preprocessing.image import ImageDataGenerator\n",
    "from sklearn.metrics import confusion_matrix\n",
    "import matplotlib.pyplot as plt\n",
    "import seaborn as sns\n",
    "import os\n",
    "import numpy as np\n",
    "test_datagen = ImageDataGenerator(rescale=1.0/255.0)\n",
    "\n",
    "test_generator = test_datagen.flow_from_directory(\n",
    "    r'C:\\Users\\Bartosz\\Desktop\\Archive\\test\\\\',\n",
    "    target_size=(224, 224),\n",
    "    batch_size= 32,\n",
    "    class_mode='categorical',\n",
    "    shuffle=False\n",
    ")\n",
    "\n",
    "\n",
    "num_test_samples = len(test_generator.filenames)\n",
    "num_classes = len(test_generator.class_indices)\n",
    "y_pred = model.predict(test_generator, steps=np.ceil(num_test_samples/30))\n",
    "\n",
    "\n",
    "\n",
    "#test_images, test_labels = next(train_generator)\n",
    "\n",
    "#y_pred = model.predict(test_images)\n",
    "#y_pred = np.argmax(y_pred, axis=1)\n",
    "\n",
    "y_true = test_generator.classes\n",
    "cm = confusion_matrix(y_true, np.argmax(y_pred, axis=1))\n",
    "\n",
    "plt.figure(figsize=(8,6))\n",
    "sns.heatmap(cm, annot=True, fmt='d', cmap='Blues')\n",
    "plt.xlabel('Predicted')\n",
    "plt.ylabel('True')\n",
    "plt.show()"
   ]
  },
  {
   "cell_type": "code",
   "execution_count": null,
   "id": "26d019b3",
   "metadata": {},
   "outputs": [],
   "source": []
  },
  {
   "cell_type": "code",
   "execution_count": null,
   "id": "f04d3876",
   "metadata": {},
   "outputs": [],
   "source": []
  }
 ],
 "metadata": {
  "kernelspec": {
   "display_name": "Python 3 (ipykernel)",
   "language": "python",
   "name": "python3"
  },
  "language_info": {
   "codemirror_mode": {
    "name": "ipython",
    "version": 3
   },
   "file_extension": ".py",
   "mimetype": "text/x-python",
   "name": "python",
   "nbconvert_exporter": "python",
   "pygments_lexer": "ipython3",
   "version": "3.9.13"
  }
 },
 "nbformat": 4,
 "nbformat_minor": 5
}
